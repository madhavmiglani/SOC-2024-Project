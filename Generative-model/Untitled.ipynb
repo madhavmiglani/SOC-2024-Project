{
 "cells": [
  {
   "cell_type": "code",
   "execution_count": null,
   "id": "a3a37ec8-d2e2-4dc4-907a-da39fb7132bf",
   "metadata": {},
   "outputs": [],
   "source": [
    "import numpy as np\n",
    "import matplotlib.pyplot as plt\n",
    "import matplotlib.image as mpimg\n",
    "\n",
    "image_path = 'Sample_Image.jpg'\n",
    "image = mpimg.imread(image_path)\n",
    "\n",
    "# Convert the image into greyscale image\n",
    "image_grey = np.dot(image[..., :3], [0.2989, 0.5870, 0.1140])\n",
    "plt.imshow(image_grey, cmap= 'gray')\n",
    "plt.title('Original')\n",
    "plt.show()\n"
   ]
  },
  {
   "cell_type": "code",
   "execution_count": null,
   "id": "01f4d49c-079c-41f5-8fb5-15e489c27228",
   "metadata": {},
   "outputs": [],
   "source": [
    "#Convert the data in 1d array \n",
    "image_grey_1d = image_grey.reshape(-1).copy()\n",
    "# Fixed variables \n",
    "K=3\n",
    "q=1.2\n",
    "threshold_distance =2\n",
    "error = 0.00001\n",
    "\n",
    "# I initially set one cluster centre to 0 and then iteratively determined other cluster centre by finding the point wth maximium distance \n",
    "# from already chosen centroids and later removed the centroid with value 0.\n",
    "def class_centre(image_grey_1d,K):\n",
    "    centre = []\n",
    "    centre.append(0)\n",
    "    for _ in range(K):\n",
    "        distance = []\n",
    "        for i in image_grey_1d:\n",
    "            if i==0:\n",
    "                distance.append(0)\n",
    "            else:\n",
    "                h= [ ]\n",
    "                for j in range(len(centre)):\n",
    "                    h.append(abs(centre[j] - i))\n",
    "                distance.append(min(h))\n",
    "        centre.append(image_grey_1d[np.argmax(distance)])\n",
    "    centre.remove(0)\n",
    "    return np.array(centre)\n",
    "\n",
    "# Initalizing a membership matrix using random numbers \n",
    "def initialize_membership_matrix(image_grey_1d, K):\n",
    "    U = np.random.rand(image_grey_1d.shape[0], K)\n",
    "    U = U / np.sum(U, axis=1, keepdims=True)\n",
    "    return U\n",
    "\n",
    "def dis(i,j,width):\n",
    "    ai,bi = divmod(i,width)\n",
    "    cj,dj = divmod(j,width)\n",
    "    return np.sqrt((ai-cj)**2 + (bi-dj)**2)"
   ]
  },
  {
   "cell_type": "code",
   "execution_count": null,
   "id": "dc1280e7-1d3b-4d27-902c-646c16729515",
   "metadata": {},
   "outputs": [],
   "source": [
    "def weight(image_grey_1d,image_grey,threshold_distance):\n",
    "    w = {}\n",
    "    height, width = image_grey.shape\n",
    "    limit = threshold_distance\n",
    "    for i in range(image_grey_1d.shape[0]):\n",
    "        if image_grey_1d[i]!=0:\n",
    "            key = i\n",
    "            value = np.array([0]*(min(i+1 + limit*width, len(image_grey_1d)) -max(i - limit*width, 0 )))\n",
    "            w[key] = value\n",
    "            a,b = divmod(i,width)\n",
    "            h = image_grey[max(a-limit,0):min(a+limit+1,height), max(b-limit,0):min(b+limit+1,width)].reshape(-1).copy()\n",
    "            h = (image_grey_1d[i] - h)**2\n",
    "            vari = np.sum(h) / len(h)\n",
    "            for j in range(max(i - limit*width, 0 ), min(i+1 + limit*width, len(image_grey_1d))):\n",
    "                if dis(i,j,width) <= limit:\n",
    "                    w[i][j-max(i-limit*width,0)] = np.exp(-(image_grey_1d[i]-image_grey_1d[j])**2 / (2*vari))\n",
    "            w[i] = w[i] / np.sum(w[i])\n",
    "    return w"
   ]
  },
  {
   "cell_type": "code",
   "execution_count": null,
   "id": "72ea4aaf",
   "metadata": {},
   "outputs": [],
   "source": [
    "def bias_field(w,U,centre,image_grey_1d, image_grey, K, threshold_distance):\n",
    "    height,width = image_grey.shape\n",
    "    limit = threshold_distance\n",
    "    U_q = U**q\n",
    "    a = np.dot(U_q, centre.reshape(3,1).copy())\n",
    "    c = np.dot(U_q, (centre**2).reshape(3,1).copy())\n",
    "    d = a.reshape(-1).copy() * image_grey_1d\n",
    "    e = c.reshape(-1).copy()\n",
    "    b= []\n",
    "    for i in range(image_grey_1d.shape[0]):\n",
    "        if image_grey_1d[i]==0:\n",
    "            b.append(0)\n",
    "        else: \n",
    "            num = np.dot(w[i], d[max(i-limit*width,0):min(i+1+limit*width,len(image_grey_1d))])\n",
    "            den = np.dot(w[i], e[max(i-limit*width,0):min(i+1+limit*width,len(image_grey_1d))])\n",
    "            b.append(num/den)\n",
    "    return np.array(b)"
   ]
  },
  {
   "cell_type": "code",
   "execution_count": null,
   "id": "02b101ae",
   "metadata": {},
   "outputs": [],
   "source": [
    "def distance(w, image_grey_1d, b, centre, K,threshold_distance,image_grey):\n",
    "    height,width = image_grey.shape\n",
    "    limit = threshold_distance\n",
    "    d = np.zeros((len(image_grey_1d), K))\n",
    "    h = np.outer(b,centre)\n",
    "    for j in range(len(image_grey_1d)):\n",
    "        if(image_grey_1d[j]!=0):\n",
    "            e  = (image_grey_1d[j]- h.copy()[max(j-limit*width,0):min(j+1+limit*width,len(image_grey_1d))])**2\n",
    "            d[j]= np.dot(w[j].reshape(1,len(w[j])).copy(), e)\n",
    "    return d\n",
    "\n",
    "def update_membership(d, q):\n",
    "    a = np.where(d==0,0 , 1 / np.where(d == 0,1 ,d))\n",
    "    a_q = a**(1/(q-1))\n",
    "    b = a_q.sum(axis =1)\n",
    "    c = np.where(b ==0, 1, b)\n",
    "    d = np.outer(c,np.array([1,1,1]))\n",
    "    return (a_q/d)\n",
    "\n",
    "def update_centre(U,w,b,image_grey_1d,threshold_distance,image_grey):\n",
    "    height,width = image_grey.shape\n",
    "    limit = threshold_distance\n",
    "    U_q = U**q\n",
    "    s = np.array([0.,0.,0.])\n",
    "    l = np.array([0.,0.,0.])\n",
    "    for j in range(len(image_grey_1d)):\n",
    "        if image_grey_1d[j]!=0:\n",
    "            s += (np.dot(w[j],b[max(j-limit*width,0):min(j+1+limit*width,len(image_grey_1d))]) * image_grey_1d[j])*U_q[j]\n",
    "            l += (np.dot(w[j],(b**2)[max(j-limit*width,0):min(j+1+limit*width,len(image_grey_1d))]))*U_q[j]\n",
    "    return s/l"
   ]
  },
  {
   "cell_type": "code",
   "execution_count": null,
   "id": "982b7dd0-7072-4138-a299-d09cdbd32782",
   "metadata": {},
   "outputs": [],
   "source": [
    "def convol(b,w,image_grey,threshold_distance):\n",
    "    height,width = image_grey.shape\n",
    "    limit = threshold_distance\n",
    "    for i in range(len(b)):\n",
    "        if b[i] !=0:\n",
    "            b[i] = np.dot(np.flip(w[i]),b[max(i-limit*width,0):min(i+1+limit*width,len(b))])\n",
    "    return b"
   ]
  },
  {
   "cell_type": "code",
   "execution_count": null,
   "id": "1c4ceab0",
   "metadata": {},
   "outputs": [],
   "source": [
    "centre = class_centre(image_grey_1d,K)\n"
   ]
  },
  {
   "cell_type": "code",
   "execution_count": null,
   "id": "bfa3f2c6",
   "metadata": {},
   "outputs": [],
   "source": [
    "U = initialize_membership_matrix(image_grey_1d,K)"
   ]
  },
  {
   "cell_type": "code",
   "execution_count": null,
   "id": "ee14f648",
   "metadata": {
    "scrolled": true
   },
   "outputs": [],
   "source": [
    "w = weight(image_grey_1d,image_grey,threshold_distance)"
   ]
  },
  {
   "cell_type": "code",
   "execution_count": null,
   "id": "45f80c3b",
   "metadata": {},
   "outputs": [],
   "source": [
    "b = bias_field(w,U,centre,image_grey_1d, image_grey, K, threshold_distance)"
   ]
  },
  {
   "cell_type": "code",
   "execution_count": null,
   "id": "1862475b-8952-4d1d-920d-81c3848b75b9",
   "metadata": {},
   "outputs": [],
   "source": [
    "b = convol(b,w,image_grey,threshold_distance)"
   ]
  },
  {
   "cell_type": "code",
   "execution_count": null,
   "id": "06cdfa6f",
   "metadata": {},
   "outputs": [],
   "source": [
    "d = distance(w, image_grey_1d, b, centre, K,threshold_distance,image_grey)"
   ]
  },
  {
   "cell_type": "code",
   "execution_count": null,
   "id": "a115337e",
   "metadata": {},
   "outputs": [],
   "source": [
    "U = update_membership(d, q)"
   ]
  },
  {
   "cell_type": "code",
   "execution_count": null,
   "id": "e8066065",
   "metadata": {},
   "outputs": [],
   "source": [
    "centre  = update_centre(U,w,b,image_grey_1d,threshold_distance,image_grey)\n"
   ]
  },
  {
   "cell_type": "code",
   "execution_count": null,
   "id": "b49cc275",
   "metadata": {},
   "outputs": [],
   "source": [
    "b = bias_field(w,U,centre,image_grey_1d, image_grey, K, threshold_distance)"
   ]
  },
  {
   "cell_type": "code",
   "execution_count": null,
   "id": "e6b641a1-ef68-4319-b2fd-a2813c1cf2d4",
   "metadata": {},
   "outputs": [],
   "source": [
    "b = convol(b,w,image_grey,threshold_distance)"
   ]
  },
  {
   "cell_type": "code",
   "execution_count": null,
   "id": "6c3aea9f",
   "metadata": {},
   "outputs": [],
   "source": [
    "final_bias_field = b.reshape(image_grey.shape[0], image_grey.shape[1]).copy()\n",
    "plt.imshow(final_bias_field, cmap = 'gray')\n",
    "plt.title('Bias Field')\n",
    "plt.show()"
   ]
  }
 ],
 "metadata": {
  "kernelspec": {
   "display_name": "Python 3 (ipykernel)",
   "language": "python",
   "name": "python3"
  },
  "language_info": {
   "codemirror_mode": {
    "name": "ipython",
    "version": 3
   },
   "file_extension": ".py",
   "mimetype": "text/x-python",
   "name": "python",
   "nbconvert_exporter": "python",
   "pygments_lexer": "ipython3",
   "version": "3.12.3"
  }
 },
 "nbformat": 4,
 "nbformat_minor": 5
}
